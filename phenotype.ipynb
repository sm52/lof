{
 "cells": [
  {
   "cell_type": "markdown",
   "metadata": {},
   "source": [
    "### For creating each of the Phenotype files from the alltraits_allnormalized.csv file"
   ]
  },
  {
   "cell_type": "code",
   "execution_count": 1,
   "metadata": {},
   "outputs": [],
   "source": [
    "import pandas as pd\n",
    "import glob\n",
    "import os\n",
    "import matplotlib.pyplot as plt\n",
    "import seaborn as sns\n",
    "\n",
    "import numpy as np\n",
    "import csv\n",
    "import statistics\n",
    "\n",
    "import pandas_plink\n",
    "from os.path import join\n",
    "from pandas_plink import read_plink\n",
    "from pandas_plink import get_data_folder\n",
    "\n",
    "import scipy.stats as s\n",
    "from scipy.stats import kruskal\n",
    "from tqdm import tqdm"
   ]
  },
  {
   "cell_type": "code",
   "execution_count": 2,
   "metadata": {},
   "outputs": [],
   "source": [
    "traits = pd.read_csv('/projects/ps-palmer/tsanches/gwaspipeline/gwas/allratsGRM/ALLTRAITS_ALLNORMALIZED.csv', low_memory = False)"
   ]
  },
  {
   "cell_type": "code",
   "execution_count": 3,
   "metadata": {},
   "outputs": [],
   "source": [
    "traits.set_index('rfid', inplace = True)\n",
    "traits = traits.loc[:, traits.columns.str.contains('regressedlr')]\n",
    "\n",
    "traits.duplicated().sum()\n",
    "traits = traits.reset_index().drop_duplicates(subset=['rfid']).set_index('rfid', drop = True)"
   ]
  },
  {
   "cell_type": "code",
   "execution_count": 5,
   "metadata": {},
   "outputs": [
    {
     "data": {
      "text/html": [
       "<div>\n",
       "<style scoped>\n",
       "    .dataframe tbody tr th:only-of-type {\n",
       "        vertical-align: middle;\n",
       "    }\n",
       "\n",
       "    .dataframe tbody tr th {\n",
       "        vertical-align: top;\n",
       "    }\n",
       "\n",
       "    .dataframe thead th {\n",
       "        text-align: right;\n",
       "    }\n",
       "</style>\n",
       "<table border=\"1\" class=\"dataframe\">\n",
       "  <thead>\n",
       "    <tr style=\"text-align: right;\">\n",
       "      <th></th>\n",
       "      <th>FID</th>\n",
       "      <th>IID</th>\n",
       "      <th>regressedlr_cue_inactive</th>\n",
       "    </tr>\n",
       "  </thead>\n",
       "  <tbody>\n",
       "    <tr>\n",
       "      <th>0</th>\n",
       "      <td>AA1DCD690C</td>\n",
       "      <td>AA1DCD690C</td>\n",
       "      <td>0.005829</td>\n",
       "    </tr>\n",
       "    <tr>\n",
       "      <th>1</th>\n",
       "      <td>AA1DCD698A</td>\n",
       "      <td>AA1DCD698A</td>\n",
       "      <td>0.011659</td>\n",
       "    </tr>\n",
       "    <tr>\n",
       "      <th>2</th>\n",
       "      <td>AA1DCD69A0</td>\n",
       "      <td>AA1DCD69A0</td>\n",
       "      <td>0.357216</td>\n",
       "    </tr>\n",
       "    <tr>\n",
       "      <th>3</th>\n",
       "      <td>AA1DCD698E</td>\n",
       "      <td>AA1DCD698E</td>\n",
       "      <td>1.011812</td>\n",
       "    </tr>\n",
       "    <tr>\n",
       "      <th>4</th>\n",
       "      <td>AA1DCD6983</td>\n",
       "      <td>AA1DCD6983</td>\n",
       "      <td>1.092944</td>\n",
       "    </tr>\n",
       "    <tr>\n",
       "      <th>...</th>\n",
       "      <td>...</td>\n",
       "      <td>...</td>\n",
       "      <td>...</td>\n",
       "    </tr>\n",
       "    <tr>\n",
       "      <th>451</th>\n",
       "      <td>AA1DCD6915</td>\n",
       "      <td>AA1DCD6915</td>\n",
       "      <td>0.420092</td>\n",
       "    </tr>\n",
       "    <tr>\n",
       "      <th>452</th>\n",
       "      <td>AA1DCD6936</td>\n",
       "      <td>AA1DCD6936</td>\n",
       "      <td>0.314043</td>\n",
       "    </tr>\n",
       "    <tr>\n",
       "      <th>453</th>\n",
       "      <td>AA1DCD691F</td>\n",
       "      <td>AA1DCD691F</td>\n",
       "      <td>0.564972</td>\n",
       "    </tr>\n",
       "    <tr>\n",
       "      <th>454</th>\n",
       "      <td>AA1DCD6910</td>\n",
       "      <td>AA1DCD6910</td>\n",
       "      <td>-0.670835</td>\n",
       "    </tr>\n",
       "    <tr>\n",
       "      <th>455</th>\n",
       "      <td>AA1DCD692C</td>\n",
       "      <td>AA1DCD692C</td>\n",
       "      <td>0.833343</td>\n",
       "    </tr>\n",
       "  </tbody>\n",
       "</table>\n",
       "<p>429 rows × 3 columns</p>\n",
       "</div>"
      ],
      "text/plain": [
       "            FID         IID  regressedlr_cue_inactive\n",
       "0    AA1DCD690C  AA1DCD690C                  0.005829\n",
       "1    AA1DCD698A  AA1DCD698A                  0.011659\n",
       "2    AA1DCD69A0  AA1DCD69A0                  0.357216\n",
       "3    AA1DCD698E  AA1DCD698E                  1.011812\n",
       "4    AA1DCD6983  AA1DCD6983                  1.092944\n",
       "..          ...         ...                       ...\n",
       "451  AA1DCD6915  AA1DCD6915                  0.420092\n",
       "452  AA1DCD6936  AA1DCD6936                  0.314043\n",
       "453  AA1DCD691F  AA1DCD691F                  0.564972\n",
       "454  AA1DCD6910  AA1DCD6910                 -0.670835\n",
       "455  AA1DCD692C  AA1DCD692C                  0.833343\n",
       "\n",
       "[429 rows x 3 columns]"
      ]
     },
     "execution_count": 5,
     "metadata": {},
     "output_type": "execute_result"
    }
   ],
   "source": [
    "newdf = pd.DataFrame(traits['regressedlr_cue_inactive'])\n",
    "newdf = newdf.reset_index().dropna()\n",
    "newdf['rfid_dup'] = newdf.loc[:, 'rfid']\n",
    "newdf = newdf.loc[:,['rfid','rfid_dup','regressedlr_cue_inactive']]\n",
    "newdf.rename(columns={\"rfid\": \"FID\", \"rfid_dup\": \"IID\",'regressedlr_cue_inactive': 'regressedlr_cue_inactive'}, inplace = True)\n",
    "\n",
    "newdf"
   ]
  },
  {
   "cell_type": "code",
   "execution_count": 6,
   "metadata": {},
   "outputs": [],
   "source": [
    "newdf.to_csv(f'/projects/ps-palmer/samuckadam/code/plink_phenotypes/regressedlr_cue_inactive.phen', sep='\\t', index=False)"
   ]
  },
  {
   "cell_type": "code",
   "execution_count": 7,
   "metadata": {},
   "outputs": [],
   "source": [
    "for c in traits.columns:\n",
    "    #FAM Id, RFID, TraitValue\n",
    "    newdf = pd.DataFrame(traits[c])\n",
    "    newdf = newdf.reset_index().dropna()\n",
    "    newdf['rfid_dup'] = newdf.loc[:, 'rfid']\n",
    "    newdf = newdf.loc[:,['rfid','rfid_dup',c]]\n",
    "    newdf.rename(columns={\"rfid\": \"FID\", \"rfid_dup\": \"IID\",c: c}, inplace = True)\n",
    "    newdf.to_csv(f'/projects/ps-palmer/samuckadam/code/plink_phenotypes/{c}.phen', sep='\\t', index=False)"
   ]
  }
 ],
 "metadata": {
  "kernelspec": {
   "display_name": "Python 3 (ipykernel)",
   "language": "python",
   "name": "python3"
  },
  "language_info": {
   "codemirror_mode": {
    "name": "ipython",
    "version": 3
   },
   "file_extension": ".py",
   "mimetype": "text/x-python",
   "name": "python",
   "nbconvert_exporter": "python",
   "pygments_lexer": "ipython3",
   "version": "3.11.7"
  }
 },
 "nbformat": 4,
 "nbformat_minor": 4
}
